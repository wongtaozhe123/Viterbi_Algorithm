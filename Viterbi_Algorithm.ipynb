{
 "cells": [
  {
   "cell_type": "code",
   "execution_count": 2,
   "metadata": {},
   "outputs": [],
   "source": [
    "import numpy as np"
   ]
  },
  {
   "cell_type": "code",
   "execution_count": 3,
   "metadata": {},
   "outputs": [
    {
     "name": "stdout",
     "output_type": "stream",
     "text": [
      "[0, 1, 5, 0]\n",
      "[4.320987654320987e-05, 1.54320987654321e-05, 6.172839506172841e-06, 1.54320987654321e-05, 0.0, 6.172839506172841e-06]\n"
     ]
    }
   ],
   "source": [
    "s=[[1/6,0,0,0,0,0],[0,1/6,0,0,0,0],[0.1,1/6,0.1,0.1,0.1,0.2],[0.7,0.1,0.1,0.1,0.1,0.1]]\n",
    "tempYPred=[]\n",
    "currentRep=[]\n",
    "temp=[]\n",
    "for (a,b) in enumerate(s):\n",
    "    transitionProbability=[[0.5,0.5,0,0,0,0,0],[1/3,1/3,0,0,0,0,1/3],[0,0,1/3,0,1/3,1/3,0],[0,0,0,1,0,0,0],[0,0,0,0.5,0.5,0,0],[0,1,0,0,0,0,0],[0.2,0.2,0.2,0,0,0.2,0.2]]\n",
    "    # print(a,b)\n",
    "    if a==0:\n",
    "        for (index,value) in enumerate(b):\n",
    "            if index==5:\n",
    "                temp.append(transitionProbability[a][index]*s[a][index])\n",
    "                tempYPred.append(np.argmax(temp))\n",
    "                currentRep.append(temp)\n",
    "                currentRep=currentRep[0]\n",
    "                temp=[]\n",
    "            else:\n",
    "                temp.append(transitionProbability[a][index]*s[a][index])\n",
    "    else:\n",
    "        transitionProbability=[[1/3,1/3,0,0,0,0,1/3],[0,0,1/3,0,1/3,1/3,0],[0,0,0,1,0,0,0],[0,0,0,0.5,0.5,0,0],[0,1,0,0,0,0,0],[0.2,0.2,0.2,0,0,0.2,0.2]]\n",
    "        for index in range(6):\n",
    "            temp2=[]\n",
    "            for (outer,value) in enumerate(b):\n",
    "                temp2.append(float(transitionProbability[outer][index]*s[a][index]*currentRep[outer]))\n",
    "            temp.append(max(temp2))\n",
    "        currentRep=temp\n",
    "        tempYPred.append(np.argmax(currentRep))\n",
    "        temp=[]\n",
    "\n",
    "print(tempYPred)\n",
    "print(currentRep)"
   ]
  },
  {
   "cell_type": "code",
   "execution_count": null,
   "metadata": {},
   "outputs": [],
   "source": []
  }
 ],
 "metadata": {
  "kernelspec": {
   "display_name": "Python 3",
   "language": "python",
   "name": "python3"
  },
  "language_info": {
   "codemirror_mode": {
    "name": "ipython",
    "version": 3
   },
   "file_extension": ".py",
   "mimetype": "text/x-python",
   "name": "python",
   "nbconvert_exporter": "python",
   "pygments_lexer": "ipython3",
   "version": "3.8.5"
  }
 },
 "nbformat": 4,
 "nbformat_minor": 4
}
